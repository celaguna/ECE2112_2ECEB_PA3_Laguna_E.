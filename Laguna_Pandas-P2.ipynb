{
 "cells": [
  {
   "cell_type": "markdown",
   "id": "634f25b4-3bf2-4e63-b9f7-af7ea99a3009",
   "metadata": {},
   "source": [
    "# PROGRAMMING ASSIGNMENT 3 (PROBLEM 2)\n",
    "## LAGUNA, CARLVINZ E. \n",
    "### 2ECE-B\n",
    "### SEPTEMBER 10, 2025"
   ]
  },
  {
   "cell_type": "markdown",
   "id": "666facde-1705-4931-83f6-399a3a3a7122",
   "metadata": {},
   "source": [
    "**PROBLEM 2**: Save your file as Surname_Pandas-P2.py\n",
    "\n",
    "Using the dataframe cars in problem 1, extract the following information using subsetting, slicing and\n",
    "indexing operations.\n",
    "    \n",
    "a. Display the first five rows with odd-numbered columns (columns 1, 3, 5, 7…) of cars.\n",
    "\n",
    "b. Display the row that contains the ‘Model’ of ‘Mazda RX4’.\n",
    "    \n",
    "c. How many cylinders (‘cyl’) does the car model ‘Camaro Z28’ have?\n",
    "\n",
    "d. Determine how many cylinders (‘cyl’) and what gear type (‘gear’) do the car models ‘Mazda RX4\n",
    "Wag’, ‘Ford Pantera L’ and ‘Honda Civic’ have"
   ]
  },
  {
   "cell_type": "code",
   "execution_count": 4,
   "id": "c592cfd0-2357-48c0-9bcf-dff14ef95130",
   "metadata": {},
   "outputs": [
    {
     "data": {
      "text/html": [
       "<div>\n",
       "<style scoped>\n",
       "    .dataframe tbody tr th:only-of-type {\n",
       "        vertical-align: middle;\n",
       "    }\n",
       "\n",
       "    .dataframe tbody tr th {\n",
       "        vertical-align: top;\n",
       "    }\n",
       "\n",
       "    .dataframe thead th {\n",
       "        text-align: right;\n",
       "    }\n",
       "</style>\n",
       "<table border=\"1\" class=\"dataframe\">\n",
       "  <thead>\n",
       "    <tr style=\"text-align: right;\">\n",
       "      <th></th>\n",
       "      <th>Model</th>\n",
       "      <th>cyl</th>\n",
       "      <th>gear</th>\n",
       "    </tr>\n",
       "  </thead>\n",
       "  <tbody>\n",
       "    <tr>\n",
       "      <th>1</th>\n",
       "      <td>Mazda RX4 Wag</td>\n",
       "      <td>6</td>\n",
       "      <td>4</td>\n",
       "    </tr>\n",
       "    <tr>\n",
       "      <th>18</th>\n",
       "      <td>Honda Civic</td>\n",
       "      <td>4</td>\n",
       "      <td>4</td>\n",
       "    </tr>\n",
       "    <tr>\n",
       "      <th>28</th>\n",
       "      <td>Ford Pantera L</td>\n",
       "      <td>8</td>\n",
       "      <td>5</td>\n",
       "    </tr>\n",
       "  </tbody>\n",
       "</table>\n",
       "</div>"
      ],
      "text/plain": [
       "             Model  cyl  gear\n",
       "1    Mazda RX4 Wag    6     4\n",
       "18     Honda Civic    4     4\n",
       "28  Ford Pantera L    8     5"
      ]
     },
     "execution_count": 4,
     "metadata": {},
     "output_type": "execute_result"
    }
   ],
   "source": [
    "# Import the pandas library and assigns it the alias 'pd'\n",
    "import pandas as pd\n",
    "\n",
    "# Load the CSV file into a DataFrame called 'cars'\n",
    "cars = pd.read_csv(\"cars.csv\")\n",
    "\n",
    "# a. First five rows with odd-numbered columns (1, 3, 5, 7…)\n",
    "# Select the first 5 rows and only the odd-numbered columns (1, 3, 5…)\n",
    "odd_columns = cars.iloc[:5, ::2]\n",
    "\n",
    "# Display the resulting DataFrame 'odd_columns'\n",
    "odd_columns\n",
    "\n",
    "# b. Row containing 'Mazda RX4'\n",
    "# Filter the DataFrame to only include rows where the 'Model' is 'Mazda RX4'\n",
    "mazda_rx4 = cars[cars['Model'] == 'Mazda RX4']\n",
    "\n",
    "# Display the row containing the 'Mazda RX4'\n",
    "mazda_rx4\n",
    "\n",
    "# c. Cylinders of 'Camaro Z28'\n",
    "# Select the 'Model' and 'cyl' columns where the 'Model' is 'Camaro Z28'\n",
    "camaro_cyl = cars.loc[cars['Model'] == 'Camaro Z28', ['Model', 'cyl']]\n",
    "\n",
    "# Display the DataFrame with 'Camaro Z28' and its cylinder value\n",
    "camaro_cyl\n",
    "\n",
    "# d. Cylinders and gear type of selected models\n",
    "# Create a list of the three specific car models we want to check\n",
    "selected_models = ['Mazda RX4 Wag', 'Ford Pantera L', 'Honda Civic']\n",
    "\n",
    "# Filter rows to only include the selected models, showing 'Model', 'cyl', and 'gear'\n",
    "cyl_gear_info = cars.loc[cars['Model'].isin(selected_models), ['Model', 'cyl', 'gear']]\n",
    "\n",
    "# Display the DataFrame with cylinders and gear type for the selected models\n",
    "cyl_gear_info"
   ]
  },
  {
   "cell_type": "code",
   "execution_count": 1,
   "id": "9f3bab33-328a-4655-87e9-aaf9a382161e",
   "metadata": {},
   "outputs": [
    {
     "name": "stdout",
     "output_type": "stream",
     "text": [
      "[NbConvertApp] Converting notebook Laguna_Pandas-P2.ipynb to script\n",
      "[NbConvertApp] Writing 2040 bytes to Laguna_Pandas-P2.py\n"
     ]
    }
   ],
   "source": [
    "#Convert .ipynb file to .py file\n",
    "!jupyter nbconvert --to script \"Laguna_Pandas-P2.ipynb\""
   ]
  }
 ],
 "metadata": {
  "kernelspec": {
   "display_name": "Python [conda env:base] *",
   "language": "python",
   "name": "conda-base-py"
  },
  "language_info": {
   "codemirror_mode": {
    "name": "ipython",
    "version": 3
   },
   "file_extension": ".py",
   "mimetype": "text/x-python",
   "name": "python",
   "nbconvert_exporter": "python",
   "pygments_lexer": "ipython3",
   "version": "3.13.5"
  }
 },
 "nbformat": 4,
 "nbformat_minor": 5
}
